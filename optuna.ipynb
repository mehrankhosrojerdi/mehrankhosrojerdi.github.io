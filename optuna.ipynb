{
 "cells": [
  {
   "cell_type": "markdown",
   "metadata": {},
   "source": [
    "In this section we are addressing with optuna library in python. Optuna is a tool for optimizing the model in which this optimization is applying on validation accuracy. We try to explain this practical feature by examples in ML modeling."
   ]
  },
  {
   "cell_type": "code",
   "execution_count": 1,
   "metadata": {},
   "outputs": [],
   "source": [
    "import optuna"
   ]
  },
  {
   "cell_type": "markdown",
   "metadata": {},
   "source": [
    "Example 1: Here we have a function like $f(x) = (x-3)^2$ that we're gonna optimize this function. Exact value for this optimization is three. Let's see how optuna is working.\n"
   ]
  },
  {
   "cell_type": "code",
   "execution_count": null,
   "metadata": {},
   "outputs": [],
   "source": [
    "def example_1(trial):\n",
    "    x = trial.suggest_float('x',-10,10) # here we suggest a float range for x\n",
    "    y = (x-3)**2 # this is the function that we want to optimize it\n",
    "    return y\n",
    "\n",
    "study = optuna.create_study()\n",
    "study.optimize(func = example_1, n_trials = 100, gc_after_trial = True )\n",
    "study.best_params  # E. g {'x': 2.9841660899868985}"
   ]
  },
  {
   "cell_type": "markdown",
   "metadata": {},
   "source": [
    "Example 2: This example deal with a function which has two parameter like $ f(w,b) = w^2 + (b+2)^2$ that we're gonna optimize it and lets see how $w$ and $b$ will optimize."
   ]
  },
  {
   "cell_type": "code",
   "execution_count": null,
   "metadata": {},
   "outputs": [],
   "source": [
    "def example_2(trial):\n",
    "    w = trial.suggest_float('w', -10, 10)\n",
    "    b = trial.suggest_float('b', -10, 10)\n",
    "    y =  (w**2+(b+2)**2)\n",
    "    return y\n",
    "\n",
    "study = optuna.create_study()\n",
    "study.optimize(func = example_2, n_trials= 200, gc_after_trial = True)\n",
    "study.best_params # E. g {'w': 0.026869541290451715, 'b': -1.9468943029007124}"
   ]
  },
  {
   "cell_type": "markdown",
   "metadata": {},
   "source": [
    "Example 3) In this example we want to import `iris` dataset and then we try to make a classification model base on that by using `Scikit-Learn`. By using optuna we have plan to optimize hyper parameters."
   ]
  },
  {
   "cell_type": "code",
   "execution_count": null,
   "metadata": {},
   "outputs": [],
   "source": [
    "import pandas as pd\n",
    "import numpy as np\n",
    "import sklearn.svm\n",
    "import sklearn.datasets\n",
    "import sklearn.model_selection \n",
    "from sklearn.metrics import accuracy_score\n",
    "\n",
    "iris = sklearn.datasets.load_iris()\n",
    "X, y = iris.data, iris.target\n",
    "\n",
    "X_train, X_test, y_train, y_test = sklearn.model_selection.train_test_split(X, y, train_size = 0.8, random_state = 42)  # make train and test part for final evaluation\n",
    "\n",
    "def example_3(trial):\n",
    "    \n",
    "    params = {\n",
    "                'kernel' : trial.suggest_categorical('kernel', ['rbf', 'poly'])\n",
    "            }\n",
    "\n",
    "    clf = sklearn.svm.SVC(**params)\n",
    "    score  = sklearn.model_selection.cross_val_score(estimator = clf, X = X_train, y = y_train, cv=5) # super-nice function for applying cross validation on model\n",
    "    accuracy = score.mean()\n",
    "\n",
    "    return accuracy\n",
    "\n",
    "study = optuna.create_study()\n",
    "study.optimize(func=example_3, n_trials= 100)\n",
    "best_cls_params = study.best_params # E. g {'kernel': 'rbf'}"
   ]
  },
  {
   "cell_type": "code",
   "execution_count": 14,
   "metadata": {},
   "outputs": [
    {
     "name": "stdout",
     "output_type": "stream",
     "text": [
      "Accuracy of this model is 1.0\n"
     ]
    }
   ],
   "source": [
    "clf = sklearn.svm.SVC(**best_cls_params)\n",
    "clf.fit(X_train, y_train)\n",
    "y_pred = clf.predict(X_test)\n",
    "acc = accuracy_score(y_pred = y_pred, y_true = y_test)\n",
    "print(f'Accuracy of this model is {acc}')"
   ]
  },
  {
   "cell_type": "markdown",
   "metadata": {},
   "source": [
    "Example 4: In this example, Tensorflow and MNIST are used to optimize the validation accuracy of hand-written digit recognition.Here we are optimizing the neural network architecture as well as the optimizer configuration.\n"
   ]
  },
  {
   "cell_type": "code",
   "execution_count": 17,
   "metadata": {},
   "outputs": [],
   "source": [
    "import tensorflow as tf\n",
    "from tensorflow.keras.datasets import mnist\n",
    "\n",
    "BATCH_SIZE = 128"
   ]
  },
  {
   "cell_type": "code",
   "execution_count": 46,
   "metadata": {},
   "outputs": [],
   "source": [
    "def get_mnist():\n",
    "\n",
    "    (x_train, y_train), (x_valid, y_valid) = mnist.load_data()\n",
    "\n",
    "    x_train = x_train.astype('float32')/255\n",
    "    x_valid = x_valid.astype('float32')/255\n",
    "\n",
    "    y_train = y_train.astype('int32')\n",
    "    y_valid = y_valid.astype('int32')\n",
    "\n",
    "    train_ds = tf.data.Dataset.from_tensor_slices((x_train, y_train))\n",
    "    train_ds = train_ds.shuffle(60000) # we are shuffling entire dataset\n",
    "    train_ds = train_ds.batch(BATCH_SIZE) # Dataset is batched in smaller batches for improve the efficiency\n",
    "\n",
    "    valid_ds = tf.data.Dataset.from_tensor_slices((x_valid, y_valid))\n",
    "    valid_ds = valid_ds.shuffle(10000)\n",
    "    valid_ds = valid_ds.batch(BATCH_SIZE)\n",
    "\n",
    "    return train_ds, valid_ds\n"
   ]
  }
 ],
 "metadata": {
  "kernelspec": {
   "display_name": "Python 3",
   "language": "python",
   "name": "python3"
  },
  "language_info": {
   "codemirror_mode": {
    "name": "ipython",
    "version": 3
   },
   "file_extension": ".py",
   "mimetype": "text/x-python",
   "name": "python",
   "nbconvert_exporter": "python",
   "pygments_lexer": "ipython3",
   "version": "3.10.12"
  }
 },
 "nbformat": 4,
 "nbformat_minor": 2
}
