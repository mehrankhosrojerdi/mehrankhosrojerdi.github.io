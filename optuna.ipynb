{
 "cells": [
  {
   "cell_type": "markdown",
   "metadata": {},
   "source": [
    "In this section we are addressing with optuna library in python. We try to explain this practical feature by examples in ML modeling"
   ]
  },
  {
   "cell_type": "code",
   "execution_count": 3,
   "metadata": {},
   "outputs": [],
   "source": [
    "import optuna"
   ]
  },
  {
   "cell_type": "markdown",
   "metadata": {},
   "source": [
    "Example 1: Here we have a function like $f(x) = (x-3)^2$ that we're gonna optimize this function. Exact value for this optimization is three. Let's see how optuna is working.\n"
   ]
  },
  {
   "cell_type": "code",
   "execution_count": null,
   "metadata": {},
   "outputs": [],
   "source": [
    "def example_1(trial):\n",
    "    x = trial.suggest_float('x',-10,10) # here we suggest a float range for x\n",
    "    y = (x-3)**2 # this is the function that we want to optimize it\n",
    "    return y\n",
    "\n",
    "study = optuna.create_study()\n",
    "study.optimize(func = example_1, n_trials = 100, gc_after_trial = True )\n",
    "study.best_params  # E. g {'x': 2.9841660899868985}"
   ]
  },
  {
   "cell_type": "markdown",
   "metadata": {},
   "source": [
    "Example 2: This example deal with a function which has two parameter like $ f(w,b) = w^2 + (b+2)^2$ that we're gonna optimize it and lets see how $w$ and $b$ will optimize."
   ]
  },
  {
   "cell_type": "code",
   "execution_count": null,
   "metadata": {},
   "outputs": [],
   "source": [
    "def example_2(trial):\n",
    "    w = trial.suggest_float('w', -10, 10)\n",
    "    b = trial.suggest_float('b', -10, 10)\n",
    "    y =  (w**2+(b+2)**2)\n",
    "    return y\n",
    "\n",
    "study = optuna.create_study()\n",
    "study.optimize(func = example_2, n_trials= 200, gc_after_trial = True)\n",
    "study.best_params # E. g {'w': 0.026869541290451715, 'b': -1.9468943029007124}"
   ]
  },
  {
   "cell_type": "markdown",
   "metadata": {},
   "source": [
    "Example 3) In this example we want to import `iris` dataset and then we try to make a classification model base on that. By using optuna we have plan to optimize hyper parameters."
   ]
  },
  {
   "cell_type": "code",
   "execution_count": null,
   "metadata": {},
   "outputs": [],
   "source": [
    "import pandas as pd\n",
    "import numpy as np\n",
    "import sklearn.svm\n",
    "import sklearn.datasets\n",
    "import sklearn.model_selection \n",
    "from sklearn.metrics import accuracy_score\n",
    "\n",
    "iris = sklearn.datasets.load_iris()\n",
    "X, y = iris.data, iris.target\n",
    "\n",
    "X_train, X_test, y_train, y_test = sklearn.model_selection.train_test_split(X, y, train_size = 0.8, random_state = 42)  # make train and test part for final evaluation\n",
    "\n",
    "def example_3(trial):\n",
    "    \n",
    "    params = {\n",
    "                'C' : trial.suggest_float('svc_c', 1e-10, 1e10, log = True),\n",
    "                'kernel' : trial.suggest_categorical('svc_kernel', ['rbf', 'poly'])\n",
    "            }\n",
    "\n",
    "    clf = sklearn.svm.SVC(**params)\n",
    "    score  = sklearn.model_selection.cross_val_score(estimator = clf, X = X_train, y = y_train, cv=5) # super-nice function for applying cross validation on model\n",
    "    accuracy = score.mean()\n",
    "\n",
    "    return accuracy\n",
    "\n",
    "study = optuna.create_study()\n",
    "study.optimize(func=example_3, n_trials= 100)\n",
    "study.best_params # E. g {'svc_c': 6.441864768116623e-09, 'svc_kernel': 'poly'}"
   ]
  }
 ],
 "metadata": {
  "kernelspec": {
   "display_name": "Python 3",
   "language": "python",
   "name": "python3"
  },
  "language_info": {
   "codemirror_mode": {
    "name": "ipython",
    "version": 3
   },
   "file_extension": ".py",
   "mimetype": "text/x-python",
   "name": "python",
   "nbconvert_exporter": "python",
   "pygments_lexer": "ipython3",
   "version": "3.10.12"
  }
 },
 "nbformat": 4,
 "nbformat_minor": 2
}
